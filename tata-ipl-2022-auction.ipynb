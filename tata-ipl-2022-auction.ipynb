{
 "cells": [
  {
   "cell_type": "markdown",
   "metadata": {},
   "source": [
    "# IPL 2022 Mega Auction Dataset Analysis\n",
    "\n",
    "## About IPL:\n",
    "- The Indian Premier League (IPL) is a Twenty-20 cricket tournament league established with the objective of promoting cricket in India and thereby nurturing young and talented players. The league is an annual event where teams representing different Indian cities compete against each other.\n",
    "\n",
    "### What is the history of IPL?\n",
    "- On 13 September 2007, on the back of India's victory at the 2007 T20 World Cup, BCCI announced a franchise-based Twenty20 cricket competition called Indian Premier League. The first season was slated to start in April 2008, in a \"high-profile ceremony\" in New Delhi.\n",
    "\n",
    "### What is the process of IPL?\n",
    "- A group of ten marquee players will be the ones to open the auction. The players in the marquee set will be followed by capped players based on specialisation (batsmen, allrounders, wicketkeeper-batmen, fast bowlers and spinners). After capped players, uncapped players will be brought to the auction for teams to bid.\n",
    "\n",
    "## Who started IPL cricket?\n",
    "- Board of Control for Cricket in India - Lalit Modi\n",
    "\n"
   ]
  },
  {
   "cell_type": "markdown",
   "metadata": {},
   "source": [
    "# IPL 2022 Mega Auction Dataset Analysis\n",
    "\n",
    "## About IPL:\n",
    "- The Indian Premier League (IPL) is a Twenty-20 cricket tournament league established with the objective of promoting cricket in India and thereby nurturing young and talented players. The league is an annual event where teams representing different Indian cities compete against each other.\n",
    "\n",
    "### What is the history of IPL?\n",
    "- On 13 September 2007, on the back of India's victory at the 2007 T20 World Cup, BCCI announced a franchise-based Twenty20 cricket competition called Indian Premier League. The first season was slated to start in April 2008, in a \"high-profile ceremony\" in New Delhi.\n",
    "\n",
    "### What is the process of IPL?\n",
    "- A group of ten marquee players will be the ones to open the auction. The players in the marquee set will be followed by capped players based on specialisation (batsmen, allrounders, wicketkeeper-batmen, fast bowlers and spinners). After capped players, uncapped players will be brought to the auction for teams to bid.\n",
    "\n",
    "## Who started IPL cricket?\n",
    "- Board of Control for Cricket in India - Lalit Modi\n",
    "\n"
   ]
  },
  {
   "cell_type": "code",
   "execution_count": null,
   "metadata": {},
   "outputs": [],
   "source": []
  },
  {
   "cell_type": "markdown",
   "metadata": {},
   "source": [
    "# About The Dataset:\n",
    "- The dataset contains info of players was sold in IPL Auction 2022 which was conducted in Feb,22.\n",
    "- It have 5 columns and 204 unique rows \n",
    "- There is no missing value and no duplicated rows\n",
    "- Columns details:\n",
    "     - Teams: 10 diff teams\n",
    "     - Player_Name: Name of players sold in auction\n",
    "     - Nationality: from which nation players belong, two category(Inidan and Overseas)\n",
    "     - Type: Category of players(4 category: All-Rounder, Batsman, Bowler, Wicket-Keeper)\n",
    "     - Sold_Price: Final bid of the player in INR\n",
    "     \n",
    "  "
   ]
  },
  {
   "cell_type": "code",
   "execution_count": null,
   "metadata": {
    "execution": {
     "iopub.execute_input": "2022-04-01T10:54:02.41765Z",
     "iopub.status.busy": "2022-04-01T10:54:02.417318Z",
     "iopub.status.idle": "2022-04-01T10:54:04.903839Z",
     "shell.execute_reply": "2022-04-01T10:54:04.902894Z",
     "shell.execute_reply.started": "2022-04-01T10:54:02.417616Z"
    }
   },
   "outputs": [],
   "source": [
    "import pandas as pd\n",
    "import numpy as np\n",
    "import seaborn as sns\n",
    "import matplotlib.pyplot as plt\n",
    "\n",
    "import plotly.express as px\n",
    "\n",
    "\n",
    "%matplotlib inline\n",
    "import warnings\n",
    "warnings.simplefilter(action='ignore', category=FutureWarning)"
   ]
  },
  {
   "cell_type": "code",
   "execution_count": null,
   "metadata": {
    "execution": {
     "iopub.execute_input": "2022-04-01T10:54:04.905793Z",
     "iopub.status.busy": "2022-04-01T10:54:04.905445Z",
     "iopub.status.idle": "2022-04-01T10:54:04.925936Z",
     "shell.execute_reply": "2022-04-01T10:54:04.925291Z",
     "shell.execute_reply.started": "2022-04-01T10:54:04.905765Z"
    }
   },
   "outputs": [],
   "source": [
    "df = pd.read_csv('../input/ipl-2022-auction-sold-players/IPL2022_Sold_Players.csv')"
   ]
  },
  {
   "cell_type": "code",
   "execution_count": null,
   "metadata": {
    "execution": {
     "iopub.execute_input": "2022-04-01T10:54:04.927822Z",
     "iopub.status.busy": "2022-04-01T10:54:04.927493Z",
     "iopub.status.idle": "2022-04-01T10:54:04.9517Z",
     "shell.execute_reply": "2022-04-01T10:54:04.950964Z",
     "shell.execute_reply.started": "2022-04-01T10:54:04.927777Z"
    }
   },
   "outputs": [],
   "source": [
    "df.head()"
   ]
  },
  {
   "cell_type": "code",
   "execution_count": null,
   "metadata": {
    "execution": {
     "iopub.execute_input": "2022-04-01T10:54:04.953388Z",
     "iopub.status.busy": "2022-04-01T10:54:04.952964Z",
     "iopub.status.idle": "2022-04-01T10:54:04.958662Z",
     "shell.execute_reply": "2022-04-01T10:54:04.95802Z",
     "shell.execute_reply.started": "2022-04-01T10:54:04.953357Z"
    }
   },
   "outputs": [],
   "source": [
    "df.shape"
   ]
  },
  {
   "cell_type": "code",
   "execution_count": null,
   "metadata": {
    "execution": {
     "iopub.execute_input": "2022-04-01T10:54:04.961121Z",
     "iopub.status.busy": "2022-04-01T10:54:04.960621Z",
     "iopub.status.idle": "2022-04-01T10:54:04.992467Z",
     "shell.execute_reply": "2022-04-01T10:54:04.991498Z",
     "shell.execute_reply.started": "2022-04-01T10:54:04.961088Z"
    }
   },
   "outputs": [],
   "source": [
    "df.info()"
   ]
  },
  {
   "cell_type": "code",
   "execution_count": null,
   "metadata": {
    "execution": {
     "iopub.execute_input": "2022-04-01T10:54:04.995037Z",
     "iopub.status.busy": "2022-04-01T10:54:04.993976Z",
     "iopub.status.idle": "2022-04-01T10:54:05.006594Z",
     "shell.execute_reply": "2022-04-01T10:54:05.005707Z",
     "shell.execute_reply.started": "2022-04-01T10:54:04.994979Z"
    }
   },
   "outputs": [],
   "source": [
    "df['Sold_Price']=df['Sold_Price'].str.replace('[?,]','').astype(int)"
   ]
  },
  {
   "cell_type": "code",
   "execution_count": null,
   "metadata": {
    "execution": {
     "iopub.execute_input": "2022-04-01T10:54:05.009065Z",
     "iopub.status.busy": "2022-04-01T10:54:05.008613Z",
     "iopub.status.idle": "2022-04-01T10:54:05.020544Z",
     "shell.execute_reply": "2022-04-01T10:54:05.01958Z",
     "shell.execute_reply.started": "2022-04-01T10:54:05.009024Z"
    }
   },
   "outputs": [],
   "source": [
    "df['Sold_Price_CR']=df['Sold_Price'].apply(lambda x: '{:.2f}'.format(x/10000000))"
   ]
  },
  {
   "cell_type": "code",
   "execution_count": null,
   "metadata": {
    "execution": {
     "iopub.execute_input": "2022-04-01T10:54:05.024214Z",
     "iopub.status.busy": "2022-04-01T10:54:05.023993Z",
     "iopub.status.idle": "2022-04-01T10:54:05.033639Z",
     "shell.execute_reply": "2022-04-01T10:54:05.032696Z",
     "shell.execute_reply.started": "2022-04-01T10:54:05.024187Z"
    }
   },
   "outputs": [],
   "source": [
    "df['Sold_Price_CR']=df['Sold_Price_CR'].astype(float)"
   ]
  },
  {
   "cell_type": "code",
   "execution_count": null,
   "metadata": {
    "execution": {
     "iopub.execute_input": "2022-04-01T10:54:05.035149Z",
     "iopub.status.busy": "2022-04-01T10:54:05.034653Z",
     "iopub.status.idle": "2022-04-01T10:54:05.054933Z",
     "shell.execute_reply": "2022-04-01T10:54:05.05393Z",
     "shell.execute_reply.started": "2022-04-01T10:54:05.035118Z"
    }
   },
   "outputs": [],
   "source": [
    "df.info()"
   ]
  },
  {
   "cell_type": "code",
   "execution_count": null,
   "metadata": {
    "execution": {
     "iopub.execute_input": "2022-04-01T10:54:05.057338Z",
     "iopub.status.busy": "2022-04-01T10:54:05.056489Z",
     "iopub.status.idle": "2022-04-01T10:54:05.064346Z",
     "shell.execute_reply": "2022-04-01T10:54:05.063641Z",
     "shell.execute_reply.started": "2022-04-01T10:54:05.057294Z"
    }
   },
   "outputs": [],
   "source": [
    "df.drop(columns='Sold_Price',inplace=True)"
   ]
  },
  {
   "cell_type": "code",
   "execution_count": null,
   "metadata": {
    "execution": {
     "iopub.execute_input": "2022-04-01T10:54:05.06605Z",
     "iopub.status.busy": "2022-04-01T10:54:05.065308Z",
     "iopub.status.idle": "2022-04-01T10:54:05.079005Z",
     "shell.execute_reply": "2022-04-01T10:54:05.078194Z",
     "shell.execute_reply.started": "2022-04-01T10:54:05.066016Z"
    }
   },
   "outputs": [],
   "source": [
    "df['Teams'].nunique(),df['Player_Name'].nunique()"
   ]
  },
  {
   "cell_type": "markdown",
   "metadata": {},
   "source": [
    "* ## Total 204 players were sold in different 10 teams"
   ]
  },
  {
   "cell_type": "code",
   "execution_count": null,
   "metadata": {
    "execution": {
     "iopub.execute_input": "2022-04-01T10:54:05.082021Z",
     "iopub.status.busy": "2022-04-01T10:54:05.081303Z",
     "iopub.status.idle": "2022-04-01T10:54:05.090285Z",
     "shell.execute_reply": "2022-04-01T10:54:05.089441Z",
     "shell.execute_reply.started": "2022-04-01T10:54:05.081979Z"
    }
   },
   "outputs": [],
   "source": [
    "team = df.groupby(by='Teams')"
   ]
  },
  {
   "cell_type": "code",
   "execution_count": null,
   "metadata": {
    "execution": {
     "iopub.execute_input": "2022-04-01T10:54:05.09266Z",
     "iopub.status.busy": "2022-04-01T10:54:05.091817Z",
     "iopub.status.idle": "2022-04-01T10:54:05.103757Z",
     "shell.execute_reply": "2022-04-01T10:54:05.1028Z",
     "shell.execute_reply.started": "2022-04-01T10:54:05.092626Z"
    }
   },
   "outputs": [],
   "source": [
    "def short_name(string):\n",
    "    if string == 'Punjab Kings':\n",
    "        return 'PBKS'\n",
    "    elif string == 'Chennai Super Kings':\n",
    "        return 'CSK'\n",
    "    elif string == 'Kolkata Knight Riders':\n",
    "        return 'KKR'\n",
    "    elif string == 'Mumbai Indians':\n",
    "        return 'MI'\n",
    "    elif string == 'Rajasthan Royals':\n",
    "        return 'RR'\n",
    "    elif string == 'Delhi Capitals':\n",
    "        return 'DC'\n",
    "    elif string == 'Gujarat Titans':\n",
    "        return 'GT'\n",
    "    elif string == 'Sunrisers Hyderabad':\n",
    "        return 'SRH'\n",
    "    elif string == 'Royal Challengers Bangalore':\n",
    "        return 'RCB'\n",
    "    elif string == 'Lucknow Super Giants':\n",
    "        return 'LSG'\n",
    "    else:\n",
    "        return None\n",
    "    \n",
    "    "
   ]
  },
  {
   "cell_type": "code",
   "execution_count": null,
   "metadata": {
    "execution": {
     "iopub.execute_input": "2022-04-01T10:54:05.107276Z",
     "iopub.status.busy": "2022-04-01T10:54:05.106828Z",
     "iopub.status.idle": "2022-04-01T10:54:05.116554Z",
     "shell.execute_reply": "2022-04-01T10:54:05.115774Z",
     "shell.execute_reply.started": "2022-04-01T10:54:05.107246Z"
    }
   },
   "outputs": [],
   "source": [
    "df['Teams']=df['Teams'].apply(short_name)"
   ]
  },
  {
   "cell_type": "code",
   "execution_count": null,
   "metadata": {
    "execution": {
     "iopub.execute_input": "2022-04-01T10:54:05.117755Z",
     "iopub.status.busy": "2022-04-01T10:54:05.117503Z",
     "iopub.status.idle": "2022-04-01T10:54:05.137403Z",
     "shell.execute_reply": "2022-04-01T10:54:05.136718Z",
     "shell.execute_reply.started": "2022-04-01T10:54:05.117724Z"
    }
   },
   "outputs": [],
   "source": [
    "df.sample(5)"
   ]
  },
  {
   "cell_type": "code",
   "execution_count": null,
   "metadata": {
    "execution": {
     "iopub.execute_input": "2022-04-01T10:54:05.139019Z",
     "iopub.status.busy": "2022-04-01T10:54:05.138335Z",
     "iopub.status.idle": "2022-04-01T10:54:05.414786Z",
     "shell.execute_reply": "2022-04-01T10:54:05.414168Z",
     "shell.execute_reply.started": "2022-04-01T10:54:05.138989Z"
    }
   },
   "outputs": [],
   "source": [
    "plt.figure(figsize=(15,5))\n",
    "plt.subplot(121)\n",
    "df['Nationality'].value_counts().plot(kind='pie',autopct=lambda p:'{:.2f}%\\n({:.0f})'.format(p,(p/100)*(df['Nationality'].value_counts().sum())))\n",
    "plt.title('Nationality vs Player Category')\n",
    "plt.subplot(122)\n",
    "df['Type'].value_counts().plot(kind='pie',autopct=lambda p:'{:.2f}%\\n({:.0f})'.format(p,(p/100)*(df['Type'].value_counts().sum())))"
   ]
  },
  {
   "cell_type": "markdown",
   "metadata": {},
   "source": [
    "# 67% Players are Indians\n",
    "- 33% are Overseas players\n",
    "- ### Every 4 out of 3 players are Indians\n",
    "- ### Every 6 out of 2.5 players are All-Rounders"
   ]
  },
  {
   "cell_type": "markdown",
   "metadata": {},
   "source": [
    "# No of Players Picked by each Teams"
   ]
  },
  {
   "cell_type": "code",
   "execution_count": null,
   "metadata": {
    "execution": {
     "iopub.execute_input": "2022-04-01T10:54:05.416794Z",
     "iopub.status.busy": "2022-04-01T10:54:05.416273Z",
     "iopub.status.idle": "2022-04-01T10:54:05.426987Z",
     "shell.execute_reply": "2022-04-01T10:54:05.425944Z",
     "shell.execute_reply.started": "2022-04-01T10:54:05.416749Z"
    }
   },
   "outputs": [],
   "source": [
    "df['Teams'].value_counts()"
   ]
  },
  {
   "cell_type": "code",
   "execution_count": null,
   "metadata": {
    "execution": {
     "iopub.execute_input": "2022-04-01T10:54:05.429318Z",
     "iopub.status.busy": "2022-04-01T10:54:05.428798Z",
     "iopub.status.idle": "2022-04-01T10:54:05.830199Z",
     "shell.execute_reply": "2022-04-01T10:54:05.82928Z",
     "shell.execute_reply.started": "2022-04-01T10:54:05.429269Z"
    }
   },
   "outputs": [],
   "source": [
    "plt.figure(figsize=(15,5))\n",
    "plt.title('Players in Team')\n",
    "sns.barplot(y=team.size().sort_values().values,x=team.size().sort_values().index)\n",
    "plt.grid()"
   ]
  },
  {
   "cell_type": "markdown",
   "metadata": {},
   "source": [
    "- PBKS picked highest no of players\n",
    "- where, LSG picked lowest no of players"
   ]
  },
  {
   "cell_type": "code",
   "execution_count": null,
   "metadata": {
    "execution": {
     "iopub.execute_input": "2022-04-01T10:54:05.831911Z",
     "iopub.status.busy": "2022-04-01T10:54:05.831607Z",
     "iopub.status.idle": "2022-04-01T10:54:05.86163Z",
     "shell.execute_reply": "2022-04-01T10:54:05.860745Z",
     "shell.execute_reply.started": "2022-04-01T10:54:05.83187Z"
    }
   },
   "outputs": [],
   "source": [
    "pd.crosstab(df['Type'],df['Nationality'])"
   ]
  },
  {
   "cell_type": "code",
   "execution_count": null,
   "metadata": {
    "execution": {
     "iopub.execute_input": "2022-04-01T10:54:05.864964Z",
     "iopub.status.busy": "2022-04-01T10:54:05.864518Z",
     "iopub.status.idle": "2022-04-01T10:54:05.88369Z",
     "shell.execute_reply": "2022-04-01T10:54:05.882904Z",
     "shell.execute_reply.started": "2022-04-01T10:54:05.864918Z"
    }
   },
   "outputs": [],
   "source": [
    "pd.crosstab(df['Type'],df['Nationality'])"
   ]
  },
  {
   "cell_type": "code",
   "execution_count": null,
   "metadata": {
    "execution": {
     "iopub.execute_input": "2022-04-01T10:54:05.885547Z",
     "iopub.status.busy": "2022-04-01T10:54:05.885119Z",
     "iopub.status.idle": "2022-04-01T10:54:06.958979Z",
     "shell.execute_reply": "2022-04-01T10:54:06.958317Z",
     "shell.execute_reply.started": "2022-04-01T10:54:05.885507Z"
    }
   },
   "outputs": [],
   "source": [
    "fig = px.imshow(pd.crosstab(df['Nationality'],df['Type']), text_auto=True)\n",
    "fig.show()"
   ]
  },
  {
   "cell_type": "markdown",
   "metadata": {},
   "source": [
    "- from India All-Rounder are higher than other cateogry players, same with Overseas players\n"
   ]
  },
  {
   "cell_type": "code",
   "execution_count": null,
   "metadata": {
    "execution": {
     "iopub.execute_input": "2022-04-01T10:54:06.960625Z",
     "iopub.status.busy": "2022-04-01T10:54:06.960223Z",
     "iopub.status.idle": "2022-04-01T10:54:06.972336Z",
     "shell.execute_reply": "2022-04-01T10:54:06.971144Z",
     "shell.execute_reply.started": "2022-04-01T10:54:06.960585Z"
    },
    "jupyter": {
     "source_hidden": true
    }
   },
   "outputs": [],
   "source": [
    "def num2MB(num):\n",
    "    '''\n",
    "        num: int, float\n",
    "        it will return values like thousands(10K), Millions(10M),Billions(1B)\n",
    "        '''\n",
    "    if num < 1000: return int(num)\n",
    "    if num >= 1000 and num < 1000000:return f'{float(\"%.1f\" %(num/1000))}K'\n",
    "    elif num>= 1000000 and num < 1000000000: return f'{float(\"%.1f\" %(num/1000000))}M'\n",
    "    else: return f'{float(\"%.1f\" %(num/1000000000))}B'\n",
    "    \n",
    "def myBarPlot(data,data2=None,title=None,x_pos=0.25,y_pos=10,val_per=None):\n",
    "    '''\n",
    "    data: data\n",
    "    data2: hue data\n",
    "    title: str- title of graph\n",
    "    x_pos: int/float - to adjust x-axis position of text\n",
    "    y_pos=10: int/float - to adjust y-axis position of text\n",
    "    val_per: default: None- nothing print\n",
    "            'value': to print actual value on top\n",
    "            'percent': to print in percent\n",
    "            'val_per': to print both value and percent\n",
    "    \n",
    "    '''\n",
    "    \n",
    "    total_data = data.shape[0] # total no of rows in data\n",
    "    \n",
    "    ax = sns.countplot(data,data2)\n",
    "    for i in ax.patches:\n",
    "        height = i.get_height() # get height of bar (value of y axis)      \n",
    "        a = height\n",
    "        x = i.get_x() # get x_axis value\n",
    "        b = 0\n",
    "        if val_per == 'value': b = num2MB(a)\n",
    "        elif val_per == \"percent\":b = '{:.2f}%'.format((a/total_data)*100)\n",
    "        elif val_per == 'val_per':b = '{}\\n{:.2f}%'.format(num2MB(a),(a/total_data)*100)\n",
    "        else: b = ''\n",
    " \n",
    "        ax.text(x=x+x_pos,y=height+y_pos,s=b,rotation=None) # shift+tab for more parameter\n",
    "    plt.title(title,fontdict={'fontsize':20,'color':'red'})\n",
    "    plt.xticks(rotation=90)"
   ]
  },
  {
   "cell_type": "code",
   "execution_count": null,
   "metadata": {
    "execution": {
     "iopub.execute_input": "2022-04-01T10:54:06.974402Z",
     "iopub.status.busy": "2022-04-01T10:54:06.973621Z",
     "iopub.status.idle": "2022-04-01T10:54:07.225876Z",
     "shell.execute_reply": "2022-04-01T10:54:07.224974Z",
     "shell.execute_reply.started": "2022-04-01T10:54:06.974355Z"
    }
   },
   "outputs": [],
   "source": [
    "plt.figure(figsize=(15,5))\n",
    "myBarPlot(df['Type'],val_per='percent',x_pos=0.3,y_pos=.5,title='Players in Category')"
   ]
  },
  {
   "cell_type": "markdown",
   "metadata": {},
   "source": [
    "# Nationality vs Teams"
   ]
  },
  {
   "cell_type": "code",
   "execution_count": null,
   "metadata": {
    "execution": {
     "iopub.execute_input": "2022-04-01T10:54:07.227761Z",
     "iopub.status.busy": "2022-04-01T10:54:07.22744Z",
     "iopub.status.idle": "2022-04-01T10:54:07.251589Z",
     "shell.execute_reply": "2022-04-01T10:54:07.250955Z",
     "shell.execute_reply.started": "2022-04-01T10:54:07.227728Z"
    }
   },
   "outputs": [],
   "source": [
    "pd.crosstab(df['Nationality'],df['Teams'])"
   ]
  },
  {
   "cell_type": "markdown",
   "metadata": {},
   "source": []
  },
  {
   "cell_type": "code",
   "execution_count": null,
   "metadata": {
    "execution": {
     "iopub.execute_input": "2022-04-01T10:54:07.253096Z",
     "iopub.status.busy": "2022-04-01T10:54:07.25259Z",
     "iopub.status.idle": "2022-04-01T10:54:07.707137Z",
     "shell.execute_reply": "2022-04-01T10:54:07.706286Z",
     "shell.execute_reply.started": "2022-04-01T10:54:07.253059Z"
    }
   },
   "outputs": [],
   "source": [
    "sns.clustermap(pd.crosstab(df['Nationality'],df['Type']),figsize=(15,5))"
   ]
  },
  {
   "cell_type": "code",
   "execution_count": null,
   "metadata": {
    "execution": {
     "iopub.execute_input": "2022-04-01T10:54:07.708493Z",
     "iopub.status.busy": "2022-04-01T10:54:07.708276Z",
     "iopub.status.idle": "2022-04-01T10:54:07.773566Z",
     "shell.execute_reply": "2022-04-01T10:54:07.772733Z",
     "shell.execute_reply.started": "2022-04-01T10:54:07.708468Z"
    }
   },
   "outputs": [],
   "source": [
    "fig = px.imshow(pd.crosstab(df['Nationality'],df['Teams']), text_auto=True)\n",
    "fig.show()"
   ]
  },
  {
   "cell_type": "markdown",
   "metadata": {},
   "source": [
    "### Highest and Lowest Indain players in team\n",
    "- Highest 16 players in PBKS\n",
    "- Lowest 12 in RCB, SG\n",
    "### Highest and Lowest Overseas players in team\n",
    "- Almost eqaul in all teams 6,7"
   ]
  },
  {
   "cell_type": "markdown",
   "metadata": {},
   "source": [
    "# Player Type vs Teams"
   ]
  },
  {
   "cell_type": "code",
   "execution_count": null,
   "metadata": {
    "execution": {
     "iopub.execute_input": "2022-04-01T10:54:07.775215Z",
     "iopub.status.busy": "2022-04-01T10:54:07.774834Z",
     "iopub.status.idle": "2022-04-01T10:54:07.837957Z",
     "shell.execute_reply": "2022-04-01T10:54:07.837357Z",
     "shell.execute_reply.started": "2022-04-01T10:54:07.775186Z"
    }
   },
   "outputs": [],
   "source": [
    "fig = px.imshow(pd.crosstab(df['Type'],df['Teams']), text_auto=True)\n",
    "fig.show()"
   ]
  },
  {
   "cell_type": "markdown",
   "metadata": {},
   "source": [
    "### Highest Player Bucket\n",
    "- Highest All-Rounder in PBKS bucket (11)\n",
    "- Highet Batsman in KKR (7)\n",
    "- Highest Bowler in RR(10)\n",
    "- Highest Wicket-Kipper in KKR and SRH(3)\n",
    "### Lowest Player Bucket\n",
    "- Lowet All-Rounder in SRH bucket (5)\n",
    "- Lowest Batsman in PBKS and RCB (2)\n",
    "- Lowest Bowler in KKR(4)\n",
    "- Lowest Wicket-Kipper in LSG and RR(1)"
   ]
  },
  {
   "cell_type": "code",
   "execution_count": null,
   "metadata": {
    "execution": {
     "iopub.execute_input": "2022-04-01T10:54:07.839501Z",
     "iopub.status.busy": "2022-04-01T10:54:07.838853Z",
     "iopub.status.idle": "2022-04-01T10:54:08.168101Z",
     "shell.execute_reply": "2022-04-01T10:54:08.167302Z",
     "shell.execute_reply.started": "2022-04-01T10:54:07.839471Z"
    }
   },
   "outputs": [],
   "source": [
    "plt.figure(figsize=(15,5))\n",
    "sns.displot(df['Sold_Price_CR'])\n",
    "\n",
    "# sns.distplot(df['Sold_Price_CR'])"
   ]
  },
  {
   "cell_type": "code",
   "execution_count": null,
   "metadata": {
    "execution": {
     "iopub.execute_input": "2022-04-01T10:54:08.169559Z",
     "iopub.status.busy": "2022-04-01T10:54:08.169328Z",
     "iopub.status.idle": "2022-04-01T10:54:08.27895Z",
     "shell.execute_reply": "2022-04-01T10:54:08.278117Z",
     "shell.execute_reply.started": "2022-04-01T10:54:08.16953Z"
    }
   },
   "outputs": [],
   "source": [
    "fig = px.histogram(df, x=\"Sold_Price_CR\", nbins=10,title='Sold_Price_CR')\n",
    "fig.show()"
   ]
  },
  {
   "cell_type": "markdown",
   "metadata": {},
   "source": [
    "- ### Few players sold in very high price\n",
    "- ### High no of players sold in low price"
   ]
  },
  {
   "cell_type": "code",
   "execution_count": null,
   "metadata": {
    "execution": {
     "iopub.execute_input": "2022-04-01T10:54:08.28042Z",
     "iopub.status.busy": "2022-04-01T10:54:08.280168Z",
     "iopub.status.idle": "2022-04-01T10:54:08.294385Z",
     "shell.execute_reply": "2022-04-01T10:54:08.29337Z",
     "shell.execute_reply.started": "2022-04-01T10:54:08.28039Z"
    }
   },
   "outputs": [],
   "source": [
    "team = df.groupby(by='Teams').agg({'Sold_Price_CR':['mean','min','max']})"
   ]
  },
  {
   "cell_type": "markdown",
   "metadata": {},
   "source": [
    "# Highest and Lowest Pick of Teams by Price"
   ]
  },
  {
   "cell_type": "code",
   "execution_count": null,
   "metadata": {
    "execution": {
     "iopub.execute_input": "2022-04-01T10:54:08.297357Z",
     "iopub.status.busy": "2022-04-01T10:54:08.296248Z",
     "iopub.status.idle": "2022-04-01T10:54:08.312619Z",
     "shell.execute_reply": "2022-04-01T10:54:08.31159Z",
     "shell.execute_reply.started": "2022-04-01T10:54:08.297311Z"
    }
   },
   "outputs": [],
   "source": [
    "team"
   ]
  },
  {
   "cell_type": "code",
   "execution_count": null,
   "metadata": {
    "execution": {
     "iopub.execute_input": "2022-04-01T10:54:08.316664Z",
     "iopub.status.busy": "2022-04-01T10:54:08.315864Z",
     "iopub.status.idle": "2022-04-01T10:54:08.62408Z",
     "shell.execute_reply": "2022-04-01T10:54:08.623269Z",
     "shell.execute_reply.started": "2022-04-01T10:54:08.316617Z"
    }
   },
   "outputs": [],
   "source": [
    "sns.heatmap(team)"
   ]
  },
  {
   "cell_type": "markdown",
   "metadata": {},
   "source": [
    "# Highest spent on a single player by teams in All Category"
   ]
  },
  {
   "cell_type": "code",
   "execution_count": null,
   "metadata": {
    "execution": {
     "iopub.execute_input": "2022-04-01T10:54:08.625524Z",
     "iopub.status.busy": "2022-04-01T10:54:08.625303Z",
     "iopub.status.idle": "2022-04-01T10:54:08.631957Z",
     "shell.execute_reply": "2022-04-01T10:54:08.631046Z",
     "shell.execute_reply.started": "2022-04-01T10:54:08.625498Z"
    }
   },
   "outputs": [],
   "source": [
    "topP = df.sort_values(by=['Sold_Price_CR'],ascending=False).head(10).sort_values(by='Sold_Price_CR',ascending=False)"
   ]
  },
  {
   "cell_type": "code",
   "execution_count": null,
   "metadata": {
    "execution": {
     "iopub.execute_input": "2022-04-01T10:54:08.633756Z",
     "iopub.status.busy": "2022-04-01T10:54:08.633024Z",
     "iopub.status.idle": "2022-04-01T10:54:08.736077Z",
     "shell.execute_reply": "2022-04-01T10:54:08.735079Z",
     "shell.execute_reply.started": "2022-04-01T10:54:08.633722Z"
    }
   },
   "outputs": [],
   "source": [
    "fig = px.bar(topP, y='Sold_Price_CR', x='Player_Name',color='Nationality',title='Top 10 High Value Players',labels={'Player_Name':'Player Name','Sold_Price_CR':'Price in Cr'})\n",
    "fig.show()"
   ]
  },
  {
   "cell_type": "code",
   "execution_count": null,
   "metadata": {
    "execution": {
     "iopub.execute_input": "2022-04-01T10:54:08.737941Z",
     "iopub.status.busy": "2022-04-01T10:54:08.737572Z",
     "iopub.status.idle": "2022-04-01T10:54:08.742889Z",
     "shell.execute_reply": "2022-04-01T10:54:08.741948Z",
     "shell.execute_reply.started": "2022-04-01T10:54:08.737897Z"
    }
   },
   "outputs": [],
   "source": [
    "df_nat = df.groupby(by='Nationality')"
   ]
  },
  {
   "cell_type": "code",
   "execution_count": null,
   "metadata": {
    "execution": {
     "iopub.execute_input": "2022-04-01T10:54:08.744292Z",
     "iopub.status.busy": "2022-04-01T10:54:08.744032Z",
     "iopub.status.idle": "2022-04-01T10:54:08.76164Z",
     "shell.execute_reply": "2022-04-01T10:54:08.761078Z",
     "shell.execute_reply.started": "2022-04-01T10:54:08.744257Z"
    }
   },
   "outputs": [],
   "source": [
    "df_nat.size()"
   ]
  },
  {
   "cell_type": "markdown",
   "metadata": {},
   "source": [
    "# Top 10 Costly :Indian Players"
   ]
  },
  {
   "cell_type": "code",
   "execution_count": null,
   "metadata": {
    "execution": {
     "iopub.execute_input": "2022-04-01T10:54:08.763364Z",
     "iopub.status.busy": "2022-04-01T10:54:08.762916Z",
     "iopub.status.idle": "2022-04-01T10:54:08.783811Z",
     "shell.execute_reply": "2022-04-01T10:54:08.783196Z",
     "shell.execute_reply.started": "2022-04-01T10:54:08.763334Z"
    },
    "jupyter": {
     "source_hidden": true
    }
   },
   "outputs": [],
   "source": [
    "i = df_nat.get_group('Indian').sort_values(by='Sold_Price_CR',ascending=False).head(10)\n",
    "i"
   ]
  },
  {
   "cell_type": "code",
   "execution_count": null,
   "metadata": {
    "execution": {
     "iopub.execute_input": "2022-04-01T10:54:08.785181Z",
     "iopub.status.busy": "2022-04-01T10:54:08.784953Z",
     "iopub.status.idle": "2022-04-01T10:54:08.872187Z",
     "shell.execute_reply": "2022-04-01T10:54:08.871414Z",
     "shell.execute_reply.started": "2022-04-01T10:54:08.785153Z"
    },
    "jupyter": {
     "source_hidden": true
    }
   },
   "outputs": [],
   "source": [
    "fig = px.bar(i, y='Sold_Price_CR', x='Player_Name',color='Type',title='Top 10 Indians High Value Players',labels={'Player_Name':'Player Name','Sold_Price_CR':'Price in Cr'})\n",
    "fig.show()"
   ]
  },
  {
   "cell_type": "markdown",
   "metadata": {},
   "source": [
    "# Top 10 Costly : International Players"
   ]
  },
  {
   "cell_type": "code",
   "execution_count": null,
   "metadata": {
    "execution": {
     "iopub.execute_input": "2022-04-01T10:54:08.874177Z",
     "iopub.status.busy": "2022-04-01T10:54:08.873715Z",
     "iopub.status.idle": "2022-04-01T10:54:08.889821Z",
     "shell.execute_reply": "2022-04-01T10:54:08.889215Z",
     "shell.execute_reply.started": "2022-04-01T10:54:08.874133Z"
    },
    "jupyter": {
     "source_hidden": true
    }
   },
   "outputs": [],
   "source": [
    "o = df_nat.get_group('Overseas').sort_values(by='Sold_Price_CR',ascending=False).head(10)\n",
    "o"
   ]
  },
  {
   "cell_type": "code",
   "execution_count": null,
   "metadata": {
    "execution": {
     "iopub.execute_input": "2022-04-01T10:54:08.891993Z",
     "iopub.status.busy": "2022-04-01T10:54:08.891507Z",
     "iopub.status.idle": "2022-04-01T10:54:08.978747Z",
     "shell.execute_reply": "2022-04-01T10:54:08.977932Z",
     "shell.execute_reply.started": "2022-04-01T10:54:08.891949Z"
    },
    "jupyter": {
     "source_hidden": true
    }
   },
   "outputs": [],
   "source": [
    "fig = px.bar(o, y='Sold_Price_CR', x='Player_Name',color='Type',title='Top 10 Overseas High Value Players',labels={'Player_Name':'Player Name','Sold_Price_CR':'Price in Cr'})\n",
    "fig.show()"
   ]
  },
  {
   "cell_type": "code",
   "execution_count": null,
   "metadata": {
    "execution": {
     "iopub.execute_input": "2022-04-01T10:54:08.987356Z",
     "iopub.status.busy": "2022-04-01T10:54:08.986936Z",
     "iopub.status.idle": "2022-04-01T10:54:08.995779Z",
     "shell.execute_reply": "2022-04-01T10:54:08.994801Z",
     "shell.execute_reply.started": "2022-04-01T10:54:08.987308Z"
    },
    "jupyter": {
     "source_hidden": true
    }
   },
   "outputs": [],
   "source": [
    "df_type = df.groupby(by='Type')\n",
    "df_type.size()"
   ]
  },
  {
   "cell_type": "markdown",
   "metadata": {},
   "source": [
    "# Top 10 Costly: All-Rounders"
   ]
  },
  {
   "cell_type": "code",
   "execution_count": null,
   "metadata": {
    "execution": {
     "iopub.execute_input": "2022-04-01T10:54:08.997523Z",
     "iopub.status.busy": "2022-04-01T10:54:08.996871Z",
     "iopub.status.idle": "2022-04-01T10:54:09.016989Z",
     "shell.execute_reply": "2022-04-01T10:54:09.016147Z",
     "shell.execute_reply.started": "2022-04-01T10:54:08.997478Z"
    },
    "jupyter": {
     "source_hidden": true
    }
   },
   "outputs": [],
   "source": [
    "al = df_type.get_group('All-Rounder').sort_values(by='Sold_Price_CR',ascending=False).head(10)\n",
    "al"
   ]
  },
  {
   "cell_type": "code",
   "execution_count": null,
   "metadata": {
    "execution": {
     "iopub.execute_input": "2022-04-01T10:54:09.018568Z",
     "iopub.status.busy": "2022-04-01T10:54:09.018342Z",
     "iopub.status.idle": "2022-04-01T10:54:09.109043Z",
     "shell.execute_reply": "2022-04-01T10:54:09.108268Z",
     "shell.execute_reply.started": "2022-04-01T10:54:09.018538Z"
    }
   },
   "outputs": [],
   "source": [
    "fig = px.bar(al, y='Sold_Price_CR', x='Player_Name',color='Teams',title='Top 10 All-Rounders High Value Players',labels={'Player_Name':'Player Name','Sold_Price_CR':'Price in Cr'})\n",
    "fig.show()"
   ]
  },
  {
   "cell_type": "markdown",
   "metadata": {},
   "source": [
    "# Top 10 costly : Batsman"
   ]
  },
  {
   "cell_type": "code",
   "execution_count": null,
   "metadata": {
    "execution": {
     "iopub.execute_input": "2022-04-01T10:54:09.111104Z",
     "iopub.status.busy": "2022-04-01T10:54:09.110445Z",
     "iopub.status.idle": "2022-04-01T10:54:09.124301Z",
     "shell.execute_reply": "2022-04-01T10:54:09.123705Z",
     "shell.execute_reply.started": "2022-04-01T10:54:09.111066Z"
    },
    "jupyter": {
     "source_hidden": true
    }
   },
   "outputs": [],
   "source": [
    "bat = df_type.get_group('Batsman').sort_values(by='Sold_Price_CR',ascending=False).head(10)\n",
    "bat"
   ]
  },
  {
   "cell_type": "code",
   "execution_count": null,
   "metadata": {
    "execution": {
     "iopub.execute_input": "2022-04-01T10:54:09.125916Z",
     "iopub.status.busy": "2022-04-01T10:54:09.125214Z",
     "iopub.status.idle": "2022-04-01T10:54:09.232422Z",
     "shell.execute_reply": "2022-04-01T10:54:09.231593Z",
     "shell.execute_reply.started": "2022-04-01T10:54:09.125882Z"
    }
   },
   "outputs": [],
   "source": [
    "fig = px.bar(bat, y='Sold_Price_CR', x='Player_Name',color='Teams',title='Top 10 Batsman High Value Players',labels={'Player_Name':'Player Name','Sold_Price_CR':'Price in Cr'})\n",
    "fig.show()"
   ]
  },
  {
   "cell_type": "markdown",
   "metadata": {},
   "source": [
    "# Top 10 costly : Bowlers"
   ]
  },
  {
   "cell_type": "code",
   "execution_count": null,
   "metadata": {
    "execution": {
     "iopub.execute_input": "2022-04-01T10:54:09.233884Z",
     "iopub.status.busy": "2022-04-01T10:54:09.233539Z",
     "iopub.status.idle": "2022-04-01T10:54:09.248206Z",
     "shell.execute_reply": "2022-04-01T10:54:09.247414Z",
     "shell.execute_reply.started": "2022-04-01T10:54:09.233851Z"
    },
    "jupyter": {
     "source_hidden": true
    }
   },
   "outputs": [],
   "source": [
    "bowl = df_type.get_group('Bowler').sort_values(by='Sold_Price_CR',ascending=False).head(10)\n",
    "bowl"
   ]
  },
  {
   "cell_type": "code",
   "execution_count": null,
   "metadata": {
    "execution": {
     "iopub.execute_input": "2022-04-01T10:54:09.249579Z",
     "iopub.status.busy": "2022-04-01T10:54:09.249377Z",
     "iopub.status.idle": "2022-04-01T10:54:09.343917Z",
     "shell.execute_reply": "2022-04-01T10:54:09.342986Z",
     "shell.execute_reply.started": "2022-04-01T10:54:09.249554Z"
    }
   },
   "outputs": [],
   "source": [
    "fig = px.bar(bowl, y='Sold_Price_CR', x='Player_Name',color='Teams',title='Top 10 Bowlers High Value Players',labels={'Player_Name':'Player Name','Sold_Price_CR':'Price in Cr'})\n",
    "fig.show()"
   ]
  },
  {
   "cell_type": "markdown",
   "metadata": {},
   "source": [
    "# Top 10 Costly Wicket-Keepers"
   ]
  },
  {
   "cell_type": "code",
   "execution_count": null,
   "metadata": {
    "execution": {
     "iopub.execute_input": "2022-04-01T10:54:09.34569Z",
     "iopub.status.busy": "2022-04-01T10:54:09.345379Z",
     "iopub.status.idle": "2022-04-01T10:54:09.361677Z",
     "shell.execute_reply": "2022-04-01T10:54:09.360624Z",
     "shell.execute_reply.started": "2022-04-01T10:54:09.345644Z"
    },
    "jupyter": {
     "source_hidden": true
    }
   },
   "outputs": [],
   "source": [
    "wick = df_type.get_group('Wicket Keeper').sort_values(by='Sold_Price_CR',ascending=False).head(10)\n",
    "wick"
   ]
  },
  {
   "cell_type": "code",
   "execution_count": null,
   "metadata": {
    "execution": {
     "iopub.execute_input": "2022-04-01T10:54:09.363306Z",
     "iopub.status.busy": "2022-04-01T10:54:09.363041Z",
     "iopub.status.idle": "2022-04-01T10:54:09.46705Z",
     "shell.execute_reply": "2022-04-01T10:54:09.466275Z",
     "shell.execute_reply.started": "2022-04-01T10:54:09.363275Z"
    }
   },
   "outputs": [],
   "source": [
    "fig = px.bar(wick, y='Sold_Price_CR', x='Player_Name',color='Teams',title='Top 10 Wicket Keepers High Value Players',labels={'Player_Name':'Player Name','Sold_Price_CR':'Price in Cr'})\n",
    "fig.show()"
   ]
  },
  {
   "cell_type": "code",
   "execution_count": null,
   "metadata": {
    "execution": {
     "iopub.execute_input": "2022-04-01T10:54:09.468395Z",
     "iopub.status.busy": "2022-04-01T10:54:09.46816Z",
     "iopub.status.idle": "2022-04-01T10:54:09.476426Z",
     "shell.execute_reply": "2022-04-01T10:54:09.475625Z",
     "shell.execute_reply.started": "2022-04-01T10:54:09.468367Z"
    }
   },
   "outputs": [],
   "source": [
    "df_team = df.groupby(by='Teams')\n",
    "df_team.size()"
   ]
  },
  {
   "cell_type": "markdown",
   "metadata": {},
   "source": [
    "# Top and Bottom 5 players from every teams"
   ]
  },
  {
   "cell_type": "markdown",
   "metadata": {
    "execution": {
     "iopub.execute_input": "2022-03-31T17:17:37.281826Z",
     "iopub.status.busy": "2022-03-31T17:17:37.281497Z",
     "iopub.status.idle": "2022-03-31T17:17:37.287215Z",
     "shell.execute_reply": "2022-03-31T17:17:37.28627Z",
     "shell.execute_reply.started": "2022-03-31T17:17:37.281793Z"
    }
   },
   "source": [
    "#### 1. CSK"
   ]
  },
  {
   "cell_type": "code",
   "execution_count": null,
   "metadata": {
    "execution": {
     "iopub.execute_input": "2022-04-01T10:54:09.477476Z",
     "iopub.status.busy": "2022-04-01T10:54:09.477216Z",
     "iopub.status.idle": "2022-04-01T10:54:09.497154Z",
     "shell.execute_reply": "2022-04-01T10:54:09.496311Z",
     "shell.execute_reply.started": "2022-04-01T10:54:09.477444Z"
    },
    "jupyter": {
     "source_hidden": true
    }
   },
   "outputs": [],
   "source": [
    "csk = df_team.get_group('CSK').sort_values(by='Sold_Price_CR',ascending=False).head()\n",
    "csk"
   ]
  },
  {
   "cell_type": "code",
   "execution_count": null,
   "metadata": {
    "execution": {
     "iopub.execute_input": "2022-04-01T10:54:09.49882Z",
     "iopub.status.busy": "2022-04-01T10:54:09.498515Z",
     "iopub.status.idle": "2022-04-01T10:54:09.577354Z",
     "shell.execute_reply": "2022-04-01T10:54:09.576741Z",
     "shell.execute_reply.started": "2022-04-01T10:54:09.498781Z"
    },
    "jupyter": {
     "source_hidden": true
    }
   },
   "outputs": [],
   "source": [
    "fig = px.bar(csk, y='Sold_Price_CR', x='Player_Name',color='Type',title='CSK Top Pick',labels={'Player_Name':'Player Name','Sold_Price_CR':'Price in Cr'})\n",
    "fig.show()"
   ]
  },
  {
   "cell_type": "code",
   "execution_count": null,
   "metadata": {
    "execution": {
     "iopub.execute_input": "2022-04-01T10:54:09.578682Z",
     "iopub.status.busy": "2022-04-01T10:54:09.578482Z",
     "iopub.status.idle": "2022-04-01T10:54:09.592067Z",
     "shell.execute_reply": "2022-04-01T10:54:09.591183Z",
     "shell.execute_reply.started": "2022-04-01T10:54:09.578656Z"
    },
    "jupyter": {
     "source_hidden": true
    }
   },
   "outputs": [],
   "source": [
    "csk2 = df_team.get_group('CSK').sort_values(by='Sold_Price_CR',ascending=True).head()\n",
    "csk2"
   ]
  },
  {
   "cell_type": "markdown",
   "metadata": {},
   "source": [
    "#### 2. DC"
   ]
  },
  {
   "cell_type": "code",
   "execution_count": null,
   "metadata": {
    "execution": {
     "iopub.execute_input": "2022-04-01T10:54:09.593425Z",
     "iopub.status.busy": "2022-04-01T10:54:09.593214Z",
     "iopub.status.idle": "2022-04-01T10:54:09.610811Z",
     "shell.execute_reply": "2022-04-01T10:54:09.609932Z",
     "shell.execute_reply.started": "2022-04-01T10:54:09.593401Z"
    },
    "jupyter": {
     "source_hidden": true
    }
   },
   "outputs": [],
   "source": [
    "dc = df_team.get_group('DC').sort_values(by='Sold_Price_CR',ascending=False).head()\n",
    "dc"
   ]
  },
  {
   "cell_type": "code",
   "execution_count": null,
   "metadata": {
    "execution": {
     "iopub.execute_input": "2022-04-01T10:54:09.612442Z",
     "iopub.status.busy": "2022-04-01T10:54:09.612078Z",
     "iopub.status.idle": "2022-04-01T10:54:09.694285Z",
     "shell.execute_reply": "2022-04-01T10:54:09.693721Z",
     "shell.execute_reply.started": "2022-04-01T10:54:09.612408Z"
    },
    "jupyter": {
     "source_hidden": true
    }
   },
   "outputs": [],
   "source": [
    "fig = px.bar(dc, y='Sold_Price_CR', x='Player_Name',color='Type',title='DC Top Pick',labels={'Player_Name':'Player Name','Sold_Price_CR':'Price in Cr'})\n",
    "fig.show()"
   ]
  },
  {
   "cell_type": "code",
   "execution_count": null,
   "metadata": {
    "execution": {
     "iopub.execute_input": "2022-04-01T10:54:09.695885Z",
     "iopub.status.busy": "2022-04-01T10:54:09.695181Z",
     "iopub.status.idle": "2022-04-01T10:54:09.709487Z",
     "shell.execute_reply": "2022-04-01T10:54:09.708895Z",
     "shell.execute_reply.started": "2022-04-01T10:54:09.695849Z"
    },
    "jupyter": {
     "source_hidden": true
    }
   },
   "outputs": [],
   "source": [
    "dc2 = df_team.get_group('DC').sort_values(by='Sold_Price_CR',ascending=True).head()\n",
    "dc2"
   ]
  },
  {
   "cell_type": "markdown",
   "metadata": {},
   "source": [
    "#### 3. GT"
   ]
  },
  {
   "cell_type": "code",
   "execution_count": null,
   "metadata": {
    "execution": {
     "iopub.execute_input": "2022-04-01T10:54:09.711282Z",
     "iopub.status.busy": "2022-04-01T10:54:09.710538Z",
     "iopub.status.idle": "2022-04-01T10:54:09.730047Z",
     "shell.execute_reply": "2022-04-01T10:54:09.729473Z",
     "shell.execute_reply.started": "2022-04-01T10:54:09.711249Z"
    },
    "jupyter": {
     "source_hidden": true
    }
   },
   "outputs": [],
   "source": [
    "gt = df_team.get_group('GT').sort_values(by='Sold_Price_CR',ascending=False).head()\n",
    "gt"
   ]
  },
  {
   "cell_type": "code",
   "execution_count": null,
   "metadata": {
    "execution": {
     "iopub.execute_input": "2022-04-01T10:54:09.731532Z",
     "iopub.status.busy": "2022-04-01T10:54:09.730962Z",
     "iopub.status.idle": "2022-04-01T10:54:09.80361Z",
     "shell.execute_reply": "2022-04-01T10:54:09.802764Z",
     "shell.execute_reply.started": "2022-04-01T10:54:09.7315Z"
    },
    "jupyter": {
     "source_hidden": true
    }
   },
   "outputs": [],
   "source": [
    "fig = px.bar(gt, y='Sold_Price_CR', x='Player_Name',color='Type',title='GT Top Pick',labels={'Player_Name':'Player Name','Sold_Price_CR':'Price in Cr'})\n",
    "fig.show()"
   ]
  },
  {
   "cell_type": "code",
   "execution_count": null,
   "metadata": {
    "execution": {
     "iopub.execute_input": "2022-04-01T10:54:09.805738Z",
     "iopub.status.busy": "2022-04-01T10:54:09.805427Z",
     "iopub.status.idle": "2022-04-01T10:54:09.81865Z",
     "shell.execute_reply": "2022-04-01T10:54:09.817995Z",
     "shell.execute_reply.started": "2022-04-01T10:54:09.805697Z"
    },
    "jupyter": {
     "source_hidden": true
    }
   },
   "outputs": [],
   "source": [
    "gt2 = df_team.get_group('GT').sort_values(by='Sold_Price_CR',ascending=True).head()\n",
    "gt2"
   ]
  },
  {
   "cell_type": "markdown",
   "metadata": {},
   "source": [
    "#### 4. KKR"
   ]
  },
  {
   "cell_type": "code",
   "execution_count": null,
   "metadata": {
    "execution": {
     "iopub.execute_input": "2022-04-01T10:54:09.820568Z",
     "iopub.status.busy": "2022-04-01T10:54:09.819742Z",
     "iopub.status.idle": "2022-04-01T10:54:09.838593Z",
     "shell.execute_reply": "2022-04-01T10:54:09.837661Z",
     "shell.execute_reply.started": "2022-04-01T10:54:09.820436Z"
    }
   },
   "outputs": [],
   "source": [
    "kkr = df_team.get_group('KKR').sort_values(by='Sold_Price_CR',ascending=False).head()\n",
    "kkr"
   ]
  },
  {
   "cell_type": "code",
   "execution_count": null,
   "metadata": {
    "execution": {
     "iopub.execute_input": "2022-04-01T10:54:09.840809Z",
     "iopub.status.busy": "2022-04-01T10:54:09.83993Z",
     "iopub.status.idle": "2022-04-01T10:54:09.91717Z",
     "shell.execute_reply": "2022-04-01T10:54:09.916621Z",
     "shell.execute_reply.started": "2022-04-01T10:54:09.840776Z"
    },
    "jupyter": {
     "source_hidden": true
    }
   },
   "outputs": [],
   "source": [
    "fig = px.bar(kkr, y='Sold_Price_CR', x='Player_Name',color='Type',title='KKR Top Pick',labels={'Player_Name':'Player Name','Sold_Price_CR':'Price in Cr'})\n",
    "fig.show()"
   ]
  },
  {
   "cell_type": "code",
   "execution_count": null,
   "metadata": {
    "execution": {
     "iopub.execute_input": "2022-04-01T10:54:09.918868Z",
     "iopub.status.busy": "2022-04-01T10:54:09.918148Z",
     "iopub.status.idle": "2022-04-01T10:54:09.931538Z",
     "shell.execute_reply": "2022-04-01T10:54:09.930783Z",
     "shell.execute_reply.started": "2022-04-01T10:54:09.918836Z"
    },
    "jupyter": {
     "source_hidden": true
    }
   },
   "outputs": [],
   "source": [
    "kkr2 = df_team.get_group('KKR').sort_values(by='Sold_Price_CR',ascending=True).head()\n",
    "kkr2"
   ]
  },
  {
   "cell_type": "markdown",
   "metadata": {},
   "source": [
    "#### 5.  LSG"
   ]
  },
  {
   "cell_type": "code",
   "execution_count": null,
   "metadata": {
    "execution": {
     "iopub.execute_input": "2022-04-01T10:54:09.933074Z",
     "iopub.status.busy": "2022-04-01T10:54:09.932512Z",
     "iopub.status.idle": "2022-04-01T10:54:09.952868Z",
     "shell.execute_reply": "2022-04-01T10:54:09.952299Z",
     "shell.execute_reply.started": "2022-04-01T10:54:09.933041Z"
    }
   },
   "outputs": [],
   "source": [
    "lsg = df_team.get_group('LSG').sort_values(by='Sold_Price_CR',ascending=False).head()\n",
    "lsg"
   ]
  },
  {
   "cell_type": "code",
   "execution_count": null,
   "metadata": {
    "execution": {
     "iopub.execute_input": "2022-04-01T10:54:09.954656Z",
     "iopub.status.busy": "2022-04-01T10:54:09.953985Z",
     "iopub.status.idle": "2022-04-01T10:54:10.030365Z",
     "shell.execute_reply": "2022-04-01T10:54:10.029427Z",
     "shell.execute_reply.started": "2022-04-01T10:54:09.95462Z"
    },
    "jupyter": {
     "source_hidden": true
    }
   },
   "outputs": [],
   "source": [
    "fig = px.bar(lsg, y='Sold_Price_CR', x='Player_Name',color='Type',title='LSG Top Pick',labels={'Player_Name':'Player Name','Sold_Price_CR':'Price in Cr'})\n",
    "fig.show()"
   ]
  },
  {
   "cell_type": "code",
   "execution_count": null,
   "metadata": {
    "execution": {
     "iopub.execute_input": "2022-04-01T10:54:10.031842Z",
     "iopub.status.busy": "2022-04-01T10:54:10.031628Z",
     "iopub.status.idle": "2022-04-01T10:54:10.046078Z",
     "shell.execute_reply": "2022-04-01T10:54:10.045334Z",
     "shell.execute_reply.started": "2022-04-01T10:54:10.031817Z"
    },
    "jupyter": {
     "source_hidden": true
    }
   },
   "outputs": [],
   "source": [
    "lsg2 = df_team.get_group('LSG').sort_values(by='Sold_Price_CR',ascending=True).head()\n",
    "lsg2"
   ]
  },
  {
   "cell_type": "markdown",
   "metadata": {},
   "source": [
    "#### 6. MI"
   ]
  },
  {
   "cell_type": "code",
   "execution_count": null,
   "metadata": {
    "execution": {
     "iopub.execute_input": "2022-04-01T10:54:10.047595Z",
     "iopub.status.busy": "2022-04-01T10:54:10.047353Z",
     "iopub.status.idle": "2022-04-01T10:54:10.068718Z",
     "shell.execute_reply": "2022-04-01T10:54:10.067831Z",
     "shell.execute_reply.started": "2022-04-01T10:54:10.047567Z"
    }
   },
   "outputs": [],
   "source": [
    "mi = df_team.get_group('MI').sort_values(by='Sold_Price_CR',ascending=False).head()\n",
    "mi"
   ]
  },
  {
   "cell_type": "code",
   "execution_count": null,
   "metadata": {
    "execution": {
     "iopub.execute_input": "2022-04-01T10:54:10.070725Z",
     "iopub.status.busy": "2022-04-01T10:54:10.070126Z",
     "iopub.status.idle": "2022-04-01T10:54:10.147262Z",
     "shell.execute_reply": "2022-04-01T10:54:10.146695Z",
     "shell.execute_reply.started": "2022-04-01T10:54:10.070674Z"
    },
    "jupyter": {
     "source_hidden": true
    }
   },
   "outputs": [],
   "source": [
    "fig = px.bar(mi, y='Sold_Price_CR', x='Player_Name',color='Type',title='MI Top Pick',labels={'Player_Name':'Player Name','Sold_Price_CR':'Price in Cr'})\n",
    "fig.show()"
   ]
  },
  {
   "cell_type": "code",
   "execution_count": null,
   "metadata": {
    "execution": {
     "iopub.execute_input": "2022-04-01T10:54:10.148894Z",
     "iopub.status.busy": "2022-04-01T10:54:10.14849Z",
     "iopub.status.idle": "2022-04-01T10:54:10.163891Z",
     "shell.execute_reply": "2022-04-01T10:54:10.163158Z",
     "shell.execute_reply.started": "2022-04-01T10:54:10.148863Z"
    },
    "jupyter": {
     "source_hidden": true
    }
   },
   "outputs": [],
   "source": [
    "mi2 = df_team.get_group('MI').sort_values(by='Sold_Price_CR',ascending=True).head()\n",
    "mi2"
   ]
  },
  {
   "cell_type": "markdown",
   "metadata": {},
   "source": [
    "#### 7. PBKS"
   ]
  },
  {
   "cell_type": "code",
   "execution_count": null,
   "metadata": {
    "execution": {
     "iopub.execute_input": "2022-04-01T10:54:10.165556Z",
     "iopub.status.busy": "2022-04-01T10:54:10.164999Z",
     "iopub.status.idle": "2022-04-01T10:54:10.180005Z",
     "shell.execute_reply": "2022-04-01T10:54:10.179427Z",
     "shell.execute_reply.started": "2022-04-01T10:54:10.165521Z"
    },
    "jupyter": {
     "source_hidden": true
    }
   },
   "outputs": [],
   "source": [
    "pbks = df_team.get_group('PBKS').sort_values(by='Sold_Price_CR',ascending=False).head()\n",
    "pbks"
   ]
  },
  {
   "cell_type": "code",
   "execution_count": null,
   "metadata": {
    "execution": {
     "iopub.execute_input": "2022-04-01T10:54:10.181673Z",
     "iopub.status.busy": "2022-04-01T10:54:10.181081Z",
     "iopub.status.idle": "2022-04-01T10:54:10.26513Z",
     "shell.execute_reply": "2022-04-01T10:54:10.264244Z",
     "shell.execute_reply.started": "2022-04-01T10:54:10.181642Z"
    }
   },
   "outputs": [],
   "source": [
    "fig = px.bar(pbks, y='Sold_Price_CR', x='Player_Name',color='Type',title='PBKS Top Pick',labels={'Player_Name':'Player Name','Sold_Price_CR':'Price in Cr'})\n",
    "fig.show()"
   ]
  },
  {
   "cell_type": "code",
   "execution_count": null,
   "metadata": {
    "execution": {
     "iopub.execute_input": "2022-04-01T10:54:10.26645Z",
     "iopub.status.busy": "2022-04-01T10:54:10.266216Z",
     "iopub.status.idle": "2022-04-01T10:54:10.28063Z",
     "shell.execute_reply": "2022-04-01T10:54:10.280073Z",
     "shell.execute_reply.started": "2022-04-01T10:54:10.266422Z"
    },
    "jupyter": {
     "source_hidden": true
    }
   },
   "outputs": [],
   "source": [
    "pbks2 = df_team.get_group('PBKS').sort_values(by='Sold_Price_CR',ascending=True).head()\n",
    "pbks2"
   ]
  },
  {
   "cell_type": "markdown",
   "metadata": {},
   "source": [
    "#### 8. RCB"
   ]
  },
  {
   "cell_type": "code",
   "execution_count": null,
   "metadata": {
    "execution": {
     "iopub.execute_input": "2022-04-01T10:54:10.282421Z",
     "iopub.status.busy": "2022-04-01T10:54:10.281982Z",
     "iopub.status.idle": "2022-04-01T10:54:10.30257Z",
     "shell.execute_reply": "2022-04-01T10:54:10.301964Z",
     "shell.execute_reply.started": "2022-04-01T10:54:10.282381Z"
    },
    "jupyter": {
     "source_hidden": true
    }
   },
   "outputs": [],
   "source": [
    "rcb = df_team.get_group('RCB').sort_values(by='Sold_Price_CR',ascending=False).head()\n",
    "rcb"
   ]
  },
  {
   "cell_type": "code",
   "execution_count": null,
   "metadata": {
    "execution": {
     "iopub.execute_input": "2022-04-01T10:54:10.304292Z",
     "iopub.status.busy": "2022-04-01T10:54:10.303706Z",
     "iopub.status.idle": "2022-04-01T10:54:10.391247Z",
     "shell.execute_reply": "2022-04-01T10:54:10.390265Z",
     "shell.execute_reply.started": "2022-04-01T10:54:10.304255Z"
    },
    "jupyter": {
     "source_hidden": true
    }
   },
   "outputs": [],
   "source": [
    "fig = px.bar(rcb, y='Sold_Price_CR', x='Player_Name',color='Type',title='RCB Top 5 Pick',labels={'Player_Name':'Player Name','Sold_Price_CR':'Price in Cr'})\n",
    "fig.show()"
   ]
  },
  {
   "cell_type": "code",
   "execution_count": null,
   "metadata": {
    "execution": {
     "iopub.execute_input": "2022-04-01T10:54:10.392737Z",
     "iopub.status.busy": "2022-04-01T10:54:10.392494Z",
     "iopub.status.idle": "2022-04-01T10:54:10.408288Z",
     "shell.execute_reply": "2022-04-01T10:54:10.407532Z",
     "shell.execute_reply.started": "2022-04-01T10:54:10.392707Z"
    },
    "jupyter": {
     "source_hidden": true
    }
   },
   "outputs": [],
   "source": [
    "rcb2 = df_team.get_group('RCB').sort_values(by='Sold_Price_CR',ascending=True).head()\n",
    "rcb2"
   ]
  },
  {
   "cell_type": "markdown",
   "metadata": {},
   "source": [
    "#### 9. RR"
   ]
  },
  {
   "cell_type": "code",
   "execution_count": null,
   "metadata": {
    "execution": {
     "iopub.execute_input": "2022-04-01T10:54:10.409814Z",
     "iopub.status.busy": "2022-04-01T10:54:10.409587Z",
     "iopub.status.idle": "2022-04-01T10:54:10.424325Z",
     "shell.execute_reply": "2022-04-01T10:54:10.423321Z",
     "shell.execute_reply.started": "2022-04-01T10:54:10.40978Z"
    }
   },
   "outputs": [],
   "source": [
    "rr = df_team.get_group('RR').sort_values(by='Sold_Price_CR',ascending=False).head()\n",
    "rr"
   ]
  },
  {
   "cell_type": "code",
   "execution_count": null,
   "metadata": {
    "execution": {
     "iopub.execute_input": "2022-04-01T10:54:10.426592Z",
     "iopub.status.busy": "2022-04-01T10:54:10.425743Z",
     "iopub.status.idle": "2022-04-01T10:54:10.662599Z",
     "shell.execute_reply": "2022-04-01T10:54:10.66178Z",
     "shell.execute_reply.started": "2022-04-01T10:54:10.426528Z"
    }
   },
   "outputs": [],
   "source": [
    "fig = px.bar(rr, y='Sold_Price_CR', x='Player_Name',color='Type',title='RR Top 5 Pick',labels={'Player_Name':'Player Name','Sold_Price_CR':'Price in Cr'})\n",
    "fig.show()"
   ]
  },
  {
   "cell_type": "code",
   "execution_count": null,
   "metadata": {
    "execution": {
     "iopub.execute_input": "2022-04-01T10:54:10.663945Z",
     "iopub.status.busy": "2022-04-01T10:54:10.663718Z",
     "iopub.status.idle": "2022-04-01T10:54:10.687524Z",
     "shell.execute_reply": "2022-04-01T10:54:10.686728Z",
     "shell.execute_reply.started": "2022-04-01T10:54:10.663917Z"
    },
    "jupyter": {
     "source_hidden": true
    }
   },
   "outputs": [],
   "source": [
    "rr2 = df_team.get_group('RR').sort_values(by='Sold_Price_CR',ascending=True).head()\n",
    "rr2"
   ]
  },
  {
   "cell_type": "markdown",
   "metadata": {},
   "source": [
    "#### 10. SRH"
   ]
  },
  {
   "cell_type": "code",
   "execution_count": null,
   "metadata": {
    "execution": {
     "iopub.execute_input": "2022-04-01T10:54:10.688813Z",
     "iopub.status.busy": "2022-04-01T10:54:10.688594Z",
     "iopub.status.idle": "2022-04-01T10:54:10.70499Z",
     "shell.execute_reply": "2022-04-01T10:54:10.703861Z",
     "shell.execute_reply.started": "2022-04-01T10:54:10.688786Z"
    },
    "jupyter": {
     "source_hidden": true
    }
   },
   "outputs": [],
   "source": [
    "srh = df_team.get_group('SRH').sort_values(by='Sold_Price_CR',ascending=False).head()\n",
    "srh"
   ]
  },
  {
   "cell_type": "code",
   "execution_count": null,
   "metadata": {
    "execution": {
     "iopub.execute_input": "2022-04-01T10:54:10.707014Z",
     "iopub.status.busy": "2022-04-01T10:54:10.706719Z",
     "iopub.status.idle": "2022-04-01T10:54:10.807032Z",
     "shell.execute_reply": "2022-04-01T10:54:10.806036Z",
     "shell.execute_reply.started": "2022-04-01T10:54:10.706972Z"
    },
    "jupyter": {
     "source_hidden": true
    }
   },
   "outputs": [],
   "source": [
    "fig = px.bar(srh, y='Sold_Price_CR', x='Player_Name',color='Type',title='SRH Top 5 Pick',labels={'Player_Name':'Player Name','Sold_Price_CR':'Price in Cr'})\n",
    "fig.show()"
   ]
  },
  {
   "cell_type": "code",
   "execution_count": null,
   "metadata": {
    "execution": {
     "iopub.execute_input": "2022-04-01T10:54:10.809208Z",
     "iopub.status.busy": "2022-04-01T10:54:10.808884Z",
     "iopub.status.idle": "2022-04-01T10:54:10.824614Z",
     "shell.execute_reply": "2022-04-01T10:54:10.823782Z",
     "shell.execute_reply.started": "2022-04-01T10:54:10.809167Z"
    },
    "jupyter": {
     "source_hidden": true
    }
   },
   "outputs": [],
   "source": [
    "srh2 = df_team.get_group('SRH').sort_values(by='Sold_Price_CR',ascending=True).head()\n",
    "srh2"
   ]
  },
  {
   "cell_type": "code",
   "execution_count": null,
   "metadata": {
    "execution": {
     "iopub.execute_input": "2022-04-01T10:54:10.826657Z",
     "iopub.status.busy": "2022-04-01T10:54:10.826143Z",
     "iopub.status.idle": "2022-04-01T10:54:10.842228Z",
     "shell.execute_reply": "2022-04-01T10:54:10.841296Z",
     "shell.execute_reply.started": "2022-04-01T10:54:10.826613Z"
    }
   },
   "outputs": [],
   "source": [
    "df_team = df.groupby(by='Teams')\n",
    "df_team.size()"
   ]
  },
  {
   "cell_type": "code",
   "execution_count": null,
   "metadata": {
    "execution": {
     "iopub.execute_input": "2022-04-01T10:54:10.844052Z",
     "iopub.status.busy": "2022-04-01T10:54:10.843461Z",
     "iopub.status.idle": "2022-04-01T10:54:10.854953Z",
     "shell.execute_reply": "2022-04-01T10:54:10.854049Z",
     "shell.execute_reply.started": "2022-04-01T10:54:10.844018Z"
    }
   },
   "outputs": [],
   "source": [
    "df['Nation_cat']= df['Nationality'].apply(lambda x: 1 if x=='Indian' else 0)\n",
    "df['Type_cat']= df['Type'].apply(lambda x: 1 if x=='All-Rounder' else (2 if x=='Batsman' else (3 if x == 'Bowler' else 4)))\n",
    "df['Team_cat']= df['Teams'].apply(lambda x: 0 if x=='CSK' else (1 if x=='DC' else (2 if x == 'GT' else (3 if x=='KKR' else (4 if x=='LSG' else (5 if x == 'MI' else (6 if x=='PBKS' else (7 if x == 'RCB' else (8 if x=='RR' else 9)))))))))"
   ]
  },
  {
   "cell_type": "code",
   "execution_count": null,
   "metadata": {
    "execution": {
     "iopub.execute_input": "2022-04-01T10:54:10.856836Z",
     "iopub.status.busy": "2022-04-01T10:54:10.856336Z",
     "iopub.status.idle": "2022-04-01T10:54:10.868639Z",
     "shell.execute_reply": "2022-04-01T10:54:10.867932Z",
     "shell.execute_reply.started": "2022-04-01T10:54:10.856802Z"
    }
   },
   "outputs": [],
   "source": [
    "df['Nation_cat'].value_counts()"
   ]
  },
  {
   "cell_type": "code",
   "execution_count": null,
   "metadata": {
    "execution": {
     "iopub.execute_input": "2022-04-01T10:54:10.870421Z",
     "iopub.status.busy": "2022-04-01T10:54:10.869759Z",
     "iopub.status.idle": "2022-04-01T10:54:10.888061Z",
     "shell.execute_reply": "2022-04-01T10:54:10.887187Z",
     "shell.execute_reply.started": "2022-04-01T10:54:10.870375Z"
    }
   },
   "outputs": [],
   "source": [
    "df.head()"
   ]
  },
  {
   "cell_type": "code",
   "execution_count": null,
   "metadata": {
    "execution": {
     "iopub.execute_input": "2022-04-01T10:54:10.890266Z",
     "iopub.status.busy": "2022-04-01T10:54:10.889623Z",
     "iopub.status.idle": "2022-04-01T10:54:10.893893Z",
     "shell.execute_reply": "2022-04-01T10:54:10.893107Z",
     "shell.execute_reply.started": "2022-04-01T10:54:10.890199Z"
    }
   },
   "outputs": [],
   "source": [
    "\n",
    "# fig = px.line(df, x=\"year\", y=\"lifeExp\", color='country')\n",
    "# fig.show()"
   ]
  },
  {
   "cell_type": "markdown",
   "metadata": {},
   "source": [
    "# Extracting top 10 price list by player type and storing in new df"
   ]
  },
  {
   "cell_type": "code",
   "execution_count": null,
   "metadata": {
    "execution": {
     "iopub.execute_input": "2022-04-01T10:54:10.895755Z",
     "iopub.status.busy": "2022-04-01T10:54:10.895319Z",
     "iopub.status.idle": "2022-04-01T10:54:10.920546Z",
     "shell.execute_reply": "2022-04-01T10:54:10.919598Z",
     "shell.execute_reply.started": "2022-04-01T10:54:10.895714Z"
    },
    "jupyter": {
     "source_hidden": true
    }
   },
   "outputs": [],
   "source": [
    "al2 = al['Sold_Price_CR'].reset_index(drop=True)\n",
    "bat2 = bat['Sold_Price_CR'].reset_index(drop=True)\n",
    "bowl2 = bowl['Sold_Price_CR'].reset_index(drop=True)\n",
    "wick2 = wick['Sold_Price_CR'].reset_index(drop=True)\n",
    "o2 = o['Sold_Price_CR'].reset_index(drop=True)\n",
    "i2 = i['Sold_Price_CR'].reset_index(drop=True)\n",
    "\n",
    "typed = {'Indian':i2,'Overseas':o2,'All-Rounder':al2,'Batsman':bat2,'Bowler':bowl2,'Wicket-Keeper':wick2}\n",
    "type_d = pd.concat(typed, axis = 1)\n",
    "type_d"
   ]
  },
  {
   "cell_type": "code",
   "execution_count": null,
   "metadata": {
    "execution": {
     "iopub.execute_input": "2022-04-01T10:54:10.92201Z",
     "iopub.status.busy": "2022-04-01T10:54:10.921778Z",
     "iopub.status.idle": "2022-04-01T10:54:10.926214Z",
     "shell.execute_reply": "2022-04-01T10:54:10.925431Z",
     "shell.execute_reply.started": "2022-04-01T10:54:10.921981Z"
    }
   },
   "outputs": [],
   "source": [
    "z = np.arange(1,20)"
   ]
  },
  {
   "cell_type": "code",
   "execution_count": null,
   "metadata": {
    "execution": {
     "iopub.execute_input": "2022-04-01T10:54:10.927594Z",
     "iopub.status.busy": "2022-04-01T10:54:10.927376Z",
     "iopub.status.idle": "2022-04-01T10:54:10.959118Z",
     "shell.execute_reply": "2022-04-01T10:54:10.958285Z",
     "shell.execute_reply.started": "2022-04-01T10:54:10.92756Z"
    }
   },
   "outputs": [],
   "source": [
    "import plotly.graph_objects as go\n",
    "\n",
    "# Create traces\n",
    "fig = go.Figure()\n",
    "fig.add_trace(go.Scatter(x=i2, y=z,mode='lines+markers', name='Indian',line_shape='linear'))\n",
    "fig.add_trace(go.Scatter(x=o2, y=z,mode='lines+markers', name='Overseas'))\n",
    "fig.add_trace(go.Scatter(x=al2, y=z,mode='lines', name='All-Rounder',line_shape='linear'))\n",
    "fig.add_trace(go.Scatter(x=bat2, y=z,mode='lines', name='Batsman'))\n",
    "fig.add_trace(go.Scatter(x=bowl2, y=z,mode='lines', name='Bowler'))\n",
    "fig.add_trace(go.Scatter(x=wick2, y=z,mode='lines', name='Wicket-Keeper'))\n",
    "\n",
    "\n",
    "# fig.add_trace(go.Scatter(x=z, y=b,                    mode='lines+markers',                    name='lines+markers'))\n",
    "# fig.add_trace(go.Scatter(x=z, y=c,                    mode='markers', name='markers'))\n",
    "\n",
    "fig.show()"
   ]
  },
  {
   "cell_type": "code",
   "execution_count": null,
   "metadata": {
    "execution": {
     "iopub.execute_input": "2022-04-01T10:54:10.961265Z",
     "iopub.status.busy": "2022-04-01T10:54:10.960692Z",
     "iopub.status.idle": "2022-04-01T10:54:10.990665Z",
     "shell.execute_reply": "2022-04-01T10:54:10.990086Z",
     "shell.execute_reply.started": "2022-04-01T10:54:10.961193Z"
    }
   },
   "outputs": [],
   "source": [
    "a = csk['Sold_Price_CR'].reset_index(drop=True)\n",
    "b = dc['Sold_Price_CR'].reset_index(drop=True)\n",
    "c = gt['Sold_Price_CR'].reset_index(drop=True)\n",
    "d = kkr['Sold_Price_CR'].reset_index(drop=True)\n",
    "e = lsg['Sold_Price_CR'].reset_index(drop=True)\n",
    "f = mi['Sold_Price_CR'].reset_index(drop=True)\n",
    "g = pbks['Sold_Price_CR'].reset_index(drop=True)\n",
    "h = rcb['Sold_Price_CR'].reset_index(drop=True)\n",
    "i = rr['Sold_Price_CR'].reset_index(drop=True)\n",
    "j = srh['Sold_Price_CR'].reset_index(drop=True)\n",
    "data = {'CSK':a, 'DC':b, 'GT':c, 'KKR':d, 'LSG':e, 'MI':f, 'PBKS':g, 'RCB':h, 'RR':i, 'SRH':j}\n",
    "df3 = pd.concat(data, axis = 1)\n",
    "df3"
   ]
  },
  {
   "cell_type": "markdown",
   "metadata": {},
   "source": [
    "# Top 5 High picks by Teams :Line chart\n",
    "- X-axis: Sold Price in Crore\n",
    "- Y-axis: No of Players"
   ]
  },
  {
   "cell_type": "code",
   "execution_count": null,
   "metadata": {
    "execution": {
     "iopub.execute_input": "2022-04-01T10:54:10.992354Z",
     "iopub.status.busy": "2022-04-01T10:54:10.991586Z",
     "iopub.status.idle": "2022-04-01T10:54:11.019789Z",
     "shell.execute_reply": "2022-04-01T10:54:11.018708Z",
     "shell.execute_reply.started": "2022-04-01T10:54:10.992308Z"
    },
    "jupyter": {
     "source_hidden": true
    }
   },
   "outputs": [],
   "source": [
    "import plotly.graph_objects as go\n",
    "\n",
    "# Create traces\n",
    "fig = go.Figure()\n",
    "fig.add_trace(go.Scatter(x=a, y=z,mode='lines', name='CSK',line_shape='linear'))\n",
    "fig.add_trace(go.Scatter(x=b, y=z,mode='lines', name='DC'))\n",
    "fig.add_trace(go.Scatter(x=c, y=z,mode='lines', name='GT'))\n",
    "fig.add_trace(go.Scatter(x=d, y=z,mode='lines+markers', name='KKR'))\n",
    "fig.add_trace(go.Scatter(x=e, y=z,mode='lines', name='LSG'))\n",
    "fig.add_trace(go.Scatter(x=f, y=z,mode='lines', name='MI'))\n",
    "fig.add_trace(go.Scatter(x=g, y=z,mode='lines+markers', name='PBKS'))\n",
    "fig.add_trace(go.Scatter(x=h, y=z,mode='lines', name='RCB',line_shape='linear'))\n",
    "fig.add_trace(go.Scatter(x=i, y=z,mode='lines', name='RR'))\n",
    "fig.add_trace(go.Scatter(x=j, y=z,mode='lines', name='SRH'))\n",
    "\n",
    "# fig.add_trace(go.Scatter(x=z, y=b,                    mode='lines+markers',                    name='lines+markers'))\n",
    "# fig.add_trace(go.Scatter(x=z, y=c,                    mode='markers', name='markers'))\n",
    "\n",
    "fig.show()"
   ]
  },
  {
   "cell_type": "code",
   "execution_count": null,
   "metadata": {
    "execution": {
     "iopub.execute_input": "2022-04-01T10:54:11.022151Z",
     "iopub.status.busy": "2022-04-01T10:54:11.021396Z",
     "iopub.status.idle": "2022-04-01T10:54:11.026945Z",
     "shell.execute_reply": "2022-04-01T10:54:11.026009Z",
     "shell.execute_reply.started": "2022-04-01T10:54:11.022098Z"
    }
   },
   "outputs": [],
   "source": [
    "a = np.arange(204)"
   ]
  },
  {
   "cell_type": "code",
   "execution_count": null,
   "metadata": {
    "execution": {
     "iopub.execute_input": "2022-04-01T10:54:11.029191Z",
     "iopub.status.busy": "2022-04-01T10:54:11.028437Z",
     "iopub.status.idle": "2022-04-01T10:54:11.171488Z",
     "shell.execute_reply": "2022-04-01T10:54:11.170666Z",
     "shell.execute_reply.started": "2022-04-01T10:54:11.029151Z"
    }
   },
   "outputs": [],
   "source": [
    "\n",
    "fig = px.scatter( x=df['Sold_Price_CR'], y=df['Type_cat'], size=df['Sold_Price_CR'], color=df['Teams'], hover_name=df['Teams'], log_x=True, size_max=60,title='Player Type vs Sold Price')\n",
    "fig.show()"
   ]
  },
  {
   "cell_type": "markdown",
   "metadata": {},
   "source": [
    "# Team vs Sold_Price"
   ]
  },
  {
   "cell_type": "code",
   "execution_count": null,
   "metadata": {
    "execution": {
     "iopub.execute_input": "2022-04-01T10:54:11.174457Z",
     "iopub.status.busy": "2022-04-01T10:54:11.172815Z",
     "iopub.status.idle": "2022-04-01T10:54:11.291338Z",
     "shell.execute_reply": "2022-04-01T10:54:11.29052Z",
     "shell.execute_reply.started": "2022-04-01T10:54:11.174408Z"
    }
   },
   "outputs": [],
   "source": [
    "fig = px.scatter( x=df['Sold_Price_CR'], y=df['Team_cat'], size=df['Sold_Price_CR'], color=df['Teams'], hover_name=df['Teams'], log_x=True, size_max=60)\n",
    "fig.show()"
   ]
  },
  {
   "cell_type": "markdown",
   "metadata": {},
   "source": [
    "# Team vs Type vs Sold Price"
   ]
  },
  {
   "cell_type": "code",
   "execution_count": null,
   "metadata": {
    "execution": {
     "iopub.execute_input": "2022-04-01T10:54:11.293402Z",
     "iopub.status.busy": "2022-04-01T10:54:11.293081Z",
     "iopub.status.idle": "2022-04-01T10:54:11.411927Z",
     "shell.execute_reply": "2022-04-01T10:54:11.410989Z",
     "shell.execute_reply.started": "2022-04-01T10:54:11.293361Z"
    }
   },
   "outputs": [],
   "source": [
    "fig = px.scatter( x=df['Team_cat'], y=df['Type_cat'], size=df['Sold_Price_CR'], color=df['Teams'], hover_name=df['Teams'], log_x=True, size_max=60)\n",
    "fig.show()"
   ]
  },
  {
   "cell_type": "markdown",
   "metadata": {},
   "source": [
    "# Team vs Nationaltiy vs Sold Price"
   ]
  },
  {
   "cell_type": "code",
   "execution_count": null,
   "metadata": {
    "execution": {
     "iopub.execute_input": "2022-04-01T10:54:11.413766Z",
     "iopub.status.busy": "2022-04-01T10:54:11.413389Z",
     "iopub.status.idle": "2022-04-01T10:54:11.671972Z",
     "shell.execute_reply": "2022-04-01T10:54:11.671186Z",
     "shell.execute_reply.started": "2022-04-01T10:54:11.413717Z"
    }
   },
   "outputs": [],
   "source": [
    "fig = px.scatter( x=df['Team_cat'], y=df['Sold_Price_CR'], size=df['Nation_cat'], color=df['Teams'],symbol=df['Type'], hover_name=df['Teams'], log_x=True, size_max=60)\n",
    "fig.show()"
   ]
  },
  {
   "cell_type": "markdown",
   "metadata": {},
   "source": [
    "# Team vs Player"
   ]
  },
  {
   "cell_type": "code",
   "execution_count": null,
   "metadata": {
    "execution": {
     "iopub.execute_input": "2022-04-01T10:54:11.674063Z",
     "iopub.status.busy": "2022-04-01T10:54:11.673431Z",
     "iopub.status.idle": "2022-04-01T10:54:11.779393Z",
     "shell.execute_reply": "2022-04-01T10:54:11.778301Z",
     "shell.execute_reply.started": "2022-04-01T10:54:11.674033Z"
    }
   },
   "outputs": [],
   "source": [
    "fig = px.box(df, x=\"Nationality\", y=\"Sold_Price_CR\",color=df['Type'],title='Five Point Summery: Player vs Type')\n",
    "fig.show()"
   ]
  },
  {
   "cell_type": "code",
   "execution_count": null,
   "metadata": {
    "execution": {
     "iopub.execute_input": "2022-04-01T10:54:11.781532Z",
     "iopub.status.busy": "2022-04-01T10:54:11.780712Z",
     "iopub.status.idle": "2022-04-01T10:54:11.881285Z",
     "shell.execute_reply": "2022-04-01T10:54:11.880389Z",
     "shell.execute_reply.started": "2022-04-01T10:54:11.781488Z"
    }
   },
   "outputs": [],
   "source": [
    "fig = px.box(df, x=\"Nationality\", y=\"Sold_Price_CR\",color=df['Teams'],title='Five Point Summery: Player vs Teams vs Nationality')\n",
    "fig.show()"
   ]
  },
  {
   "cell_type": "code",
   "execution_count": null,
   "metadata": {
    "execution": {
     "iopub.execute_input": "2022-04-01T10:54:11.882755Z",
     "iopub.status.busy": "2022-04-01T10:54:11.882493Z",
     "iopub.status.idle": "2022-04-01T10:54:11.889793Z",
     "shell.execute_reply": "2022-04-01T10:54:11.888874Z",
     "shell.execute_reply.started": "2022-04-01T10:54:11.882726Z"
    }
   },
   "outputs": [],
   "source": [
    "df['Teams'].unique()"
   ]
  },
  {
   "cell_type": "markdown",
   "metadata": {},
   "source": [
    "# Extracting the team wise data\n",
    "- this  can be done using groupby fn as well, this one easy"
   ]
  },
  {
   "cell_type": "code",
   "execution_count": null,
   "metadata": {
    "execution": {
     "iopub.execute_input": "2022-04-01T10:54:11.891662Z",
     "iopub.status.busy": "2022-04-01T10:54:11.891253Z",
     "iopub.status.idle": "2022-04-01T10:54:11.911132Z",
     "shell.execute_reply": "2022-04-01T10:54:11.910487Z",
     "shell.execute_reply.started": "2022-04-01T10:54:11.891632Z"
    }
   },
   "outputs": [],
   "source": [
    "csk_squad = df[df['Teams']=='CSK'].sort_values(by='Type')\n",
    "dc_squad = df[df['Teams']=='DC'].sort_values(by='Type')\n",
    "gt_squad = df[df['Teams']=='GT'].sort_values(by='Type')\n",
    "kkr_squad = df[df['Teams']=='KKR'].sort_values(by='Type')\n",
    "lsg_squad = df[df['Teams']=='LSG'].sort_values(by='Type')\n",
    "mi_squad = df[df['Teams']=='MI'].sort_values(by='Type')\n",
    "pbks_squad = df[df['Teams']=='PBKS'].sort_values(by='Type')\n",
    "rcb_squad = df[df['Teams']=='RCB'].sort_values(by='Type')\n",
    "rr_squad = df[df['Teams']=='RR'].sort_values(by='Type')\n",
    "srh_squad = df[df['Teams']=='SRH'].sort_values(by='Type')\n"
   ]
  },
  {
   "cell_type": "markdown",
   "metadata": {},
   "source": [
    "# Players Picked by each Teams category wise"
   ]
  },
  {
   "cell_type": "code",
   "execution_count": null,
   "metadata": {
    "execution": {
     "iopub.execute_input": "2022-04-01T10:54:11.913164Z",
     "iopub.status.busy": "2022-04-01T10:54:11.912359Z",
     "iopub.status.idle": "2022-04-01T10:54:13.246419Z",
     "shell.execute_reply": "2022-04-01T10:54:13.245263Z",
     "shell.execute_reply.started": "2022-04-01T10:54:11.91312Z"
    },
    "jupyter": {
     "source_hidden": true
    }
   },
   "outputs": [],
   "source": [
    "plt.figure(figsize=(15,15))\n",
    "plt.subplot(431)\n",
    "csk_squad['Type'].value_counts().plot(kind='pie',autopct=lambda p:'{:.2f}%\\n({:.0f})'.format(p,(p/100)*(csk_squad['Type'].value_counts().sum())))\n",
    "plt.title('CSK Players')\n",
    "plt.subplot(432)\n",
    "dc_squad['Type'].value_counts().plot(kind='pie',autopct=lambda p:'{:.2f}%\\n({:.0f})'.format(p,(p/100)*(dc_squad['Type'].value_counts().sum())))\n",
    "plt.title('DC Players')\n",
    "plt.subplot(433)\n",
    "gt_squad['Type'].value_counts().plot(kind='pie',autopct=lambda p:'{:.2f}%\\n({:.0f})'.format(p,(p/100)*(gt_squad['Type'].value_counts().sum())))\n",
    "plt.title('GT Players')\n",
    "\n",
    "plt.subplot(434)\n",
    "kkr_squad['Type'].value_counts().plot(kind='pie',autopct=lambda p:'{:.2f}%\\n({:.0f})'.format(p,(p/100)*(kkr_squad['Type'].value_counts().sum())))\n",
    "plt.title('KKR Players')\n",
    "plt.subplot(435)\n",
    "lsg_squad['Type'].value_counts().plot(kind='pie',autopct=lambda p:'{:.2f}%\\n({:.0f})'.format(p,(p/100)*(lsg_squad['Type'].value_counts().sum())))\n",
    "plt.title('LSG Players')\n",
    "plt.subplot(436)\n",
    "mi_squad['Type'].value_counts().plot(kind='pie',autopct=lambda p:'{:.2f}%\\n({:.0f})'.format(p,(p/100)*(mi_squad['Type'].value_counts().sum())))\n",
    "plt.title('MI Players')\n",
    "\n",
    "plt.subplot(437)\n",
    "pbks_squad['Type'].value_counts().plot(kind='pie',autopct=lambda p:'{:.2f}%\\n({:.0f})'.format(p,(p/100)*(pbks_squad['Type'].value_counts().sum())))\n",
    "plt.title('PBKS Players')\n",
    "plt.subplot(438)\n",
    "rcb_squad['Type'].value_counts().plot(kind='pie',autopct=lambda p:'{:.2f}%\\n({:.0f})'.format(p,(p/100)*(rcb_squad['Type'].value_counts().sum())))\n",
    "plt.title('RCB Players')\n",
    "plt.subplot(439)\n",
    "rr_squad['Type'].value_counts().plot(kind='pie',autopct=lambda p:'{:.2f}%\\n({:.0f})'.format(p,(p/100)*(rr_squad['Type'].value_counts().sum())))\n",
    "plt.title('RR Players')\n",
    "\n",
    "plt.subplot(4,3,11)\n",
    "srh_squad['Type'].value_counts().plot(kind='pie',autopct=lambda p:'{:.2f}%\\n({:.0f})'.format(p,(p/100)*(srh_squad['Type'].value_counts().sum())))\n",
    "plt.title('SRH Players')\n"
   ]
  },
  {
   "cell_type": "markdown",
   "metadata": {},
   "source": [
    "# Extracting Total values spent by Teams"
   ]
  },
  {
   "cell_type": "code",
   "execution_count": null,
   "metadata": {
    "execution": {
     "iopub.execute_input": "2022-04-01T10:54:13.248164Z",
     "iopub.status.busy": "2022-04-01T10:54:13.247858Z",
     "iopub.status.idle": "2022-04-01T10:54:13.268579Z",
     "shell.execute_reply": "2022-04-01T10:54:13.267791Z",
     "shell.execute_reply.started": "2022-04-01T10:54:13.248124Z"
    },
    "jupyter": {
     "source_hidden": true
    }
   },
   "outputs": [],
   "source": [
    "ls = [csk_squad,dc_squad,gt_squad,kkr_squad,lsg_squad,mi_squad,pbks_squad,rcb_squad,rr_squad,srh_squad]\n",
    "tm_ls = []\n",
    "tm_am = []\n",
    "for i in ls:\n",
    "    name = i['Teams'].unique().tolist()[0]\n",
    "    amt= float('{:.2f}'.format(i['Sold_Price_CR'].sum()))\n",
    "    tm_ls.append(name)\n",
    "    tm_am.append(amt)\n",
    "# print(tm_ls,tm_am)\n",
    "new = pd.DataFrame({'Team':tm_ls,'Amount':tm_am})\n",
    "new\n"
   ]
  },
  {
   "cell_type": "code",
   "execution_count": null,
   "metadata": {
    "execution": {
     "iopub.execute_input": "2022-04-01T10:54:13.270431Z",
     "iopub.status.busy": "2022-04-01T10:54:13.269686Z",
     "iopub.status.idle": "2022-04-01T10:54:13.397033Z",
     "shell.execute_reply": "2022-04-01T10:54:13.395964Z",
     "shell.execute_reply.started": "2022-04-01T10:54:13.270383Z"
    }
   },
   "outputs": [],
   "source": [
    "fig = px.bar(new, x='Team', y='Amount',color='Team',title='Total Amount Spent by Teams')\n",
    "fig.show()"
   ]
  },
  {
   "cell_type": "markdown",
   "metadata": {},
   "source": [
    "# Extracting the Player Types for every Teams\n",
    "- to analys the how many types and the % in each team"
   ]
  },
  {
   "cell_type": "code",
   "execution_count": null,
   "metadata": {
    "execution": {
     "iopub.execute_input": "2022-04-01T10:54:13.398921Z",
     "iopub.status.busy": "2022-04-01T10:54:13.398545Z",
     "iopub.status.idle": "2022-04-01T10:54:13.437674Z",
     "shell.execute_reply": "2022-04-01T10:54:13.43702Z",
     "shell.execute_reply.started": "2022-04-01T10:54:13.398876Z"
    }
   },
   "outputs": [],
   "source": [
    "z_team = [csk_squad,dc_squad,gt_squad,kkr_squad,lsg_squad,mi_squad,pbks_squad,rcb_squad,rr_squad,srh_squad]\n",
    "z = []\n",
    "\n",
    "for i in z_team:\n",
    "    c = i.groupby(by='Type')\n",
    "    clst = [float('{:.2f}'.format(c.get_group('All-Rounder')['Sold_Price_CR'].sum())),\n",
    "    float('{:.2f}'.format(c.get_group('Batsman')['Sold_Price_CR'].sum())),\n",
    "    float('{:.2f}'.format(c.get_group('Bowler')['Sold_Price_CR'].sum())),\n",
    "    float('{:.2f}'.format(c.get_group('Wicket Keeper')['Sold_Price_CR'].sum()))]\n",
    "    clst\n",
    "    ccat = ['All-Rounder', 'Batsman', 'Bowler', 'Wicket Keeper']\n",
    "    ca = pd.DataFrame({'Type':ccat,'Amount':clst})\n",
    "    z.append(ca)"
   ]
  },
  {
   "cell_type": "code",
   "execution_count": null,
   "metadata": {
    "execution": {
     "iopub.execute_input": "2022-04-01T10:54:13.439755Z",
     "iopub.status.busy": "2022-04-01T10:54:13.438996Z",
     "iopub.status.idle": "2022-04-01T10:54:13.447469Z",
     "shell.execute_reply": "2022-04-01T10:54:13.446458Z",
     "shell.execute_reply.started": "2022-04-01T10:54:13.439709Z"
    }
   },
   "outputs": [],
   "source": [
    "df['Teams'].unique()"
   ]
  },
  {
   "cell_type": "code",
   "execution_count": null,
   "metadata": {
    "execution": {
     "iopub.execute_input": "2022-04-01T10:54:13.449269Z",
     "iopub.status.busy": "2022-04-01T10:54:13.448998Z",
     "iopub.status.idle": "2022-04-01T10:54:13.458243Z",
     "shell.execute_reply": "2022-04-01T10:54:13.457142Z",
     "shell.execute_reply.started": "2022-04-01T10:54:13.44919Z"
    }
   },
   "outputs": [],
   "source": [
    "### printing the pie chart by player category for each teams"
   ]
  },
  {
   "cell_type": "code",
   "execution_count": null,
   "metadata": {
    "execution": {
     "iopub.execute_input": "2022-04-01T10:54:13.460398Z",
     "iopub.status.busy": "2022-04-01T10:54:13.459552Z",
     "iopub.status.idle": "2022-04-01T10:54:13.554432Z",
     "shell.execute_reply": "2022-04-01T10:54:13.553756Z",
     "shell.execute_reply.started": "2022-04-01T10:54:13.460333Z"
    }
   },
   "outputs": [],
   "source": [
    "# fig = px.pie(ca, values='Amount', names='Type')\n",
    "b = ['CSK', 'DC', 'GT', 'KKR', 'LSG', 'MI', 'PBKS', 'RR', 'RCB', 'SRH']\n",
    "for i in range(0,10):\n",
    "    fig = go.Figure(data=[go.Pie(labels=z[i]['Type'], values=z[i]['Amount'],textinfo='label+percent',title='{} Spent on Players'.format(b[i]),\n",
    "                                 insidetextorientation='radial'\n",
    "                                )])\n",
    "    fig.show()"
   ]
  },
  {
   "cell_type": "markdown",
   "metadata": {},
   "source": [
    "# Conclusion:"
   ]
  },
  {
   "cell_type": "markdown",
   "metadata": {
    "execution": {
     "iopub.execute_input": "2022-04-01T05:22:26.702986Z",
     "iopub.status.busy": "2022-04-01T05:22:26.702633Z",
     "iopub.status.idle": "2022-04-01T05:22:26.711792Z",
     "shell.execute_reply": "2022-04-01T05:22:26.710069Z",
     "shell.execute_reply.started": "2022-04-01T05:22:26.702953Z"
    }
   },
   "source": [
    "- Total Spent Amount: 551.7Cr\n",
    "    - Spent by Teams:\n",
    "        0.\tCSK\t  : 45.05 Cr\n",
    "        1.\tDC\t  : 47.40 Cr\n",
    "        2.\tGT\t  : 51.85 Cr\n",
    "        3.\tKKR\t  : 47.55 Cr\n",
    "        4.\tLSG\t  : 59.00 Cr\n",
    "        5.\tMI\t  : 47.90 Cr\n",
    "        6.\tPBKS  : 68.55 Cr\n",
    "        7.\tRCB\t  : 55.45 Cr\n",
    "        8.\tRR\t  : 61.05 Cr\n",
    "        9.\tSRH\t  : 67.90 Cr\n",
    "     \n",
    "### Highest Player Pick by Teams\n",
    "- Highest All-Rounder in PBKS bucket (11)\n",
    "- Highet Batsman in KKR (7)\n",
    "- Highest Bowler in RR(10)\n",
    "- Highest Wicket-Kipper in KKR and SRH(3)\n",
    "### Lowest Player Pick by Teams\n",
    "- Lowet All-Rounder in SRH bucket (5)\n",
    "- Lowest Batsman in PBKS and RCB (2)\n",
    "- Lowest Bowler in KKR(4)\n",
    "- Lowest Wicket-Kipper in LSG and RR(1)\n",
    "\n",
    "#### Top 3 players:\n",
    "- Ishan Kishan, Deepak Chahar and Shreyash Iyar\n",
    "\n",
    "### Top in each Category:\n",
    "- All-Rounder: Liam Livingstone(PBKS- 11.5 Cr)\n",
    "- Batsman: Shreyash Iyer (KKR- 12.25 Cr)\n",
    "- Bowler: Deepak Chahar(CSK- 14Cr)\n",
    "- Wicket-Keeper: Ishan Kishan(MI- 15.25 Cr)\n",
    "\n",
    "### Top 3 Team's Highest Pick:\n",
    "- Mi -  15.25 Cr\n",
    "- CSK - 14 Cr\n",
    "- KKR - 12.25 Cr\n",
    "\n",
    "\n",
    "        "
   ]
  },
  {
   "cell_type": "markdown",
   "metadata": {},
   "source": [
    "That's all!!!!\n",
    "Well it's little bit lengthy code but quite inreseting facts came after this analysis.\n",
    "- Many challenges came across while doing this analysis which excites me to learn more.\n",
    "\n",
    "## What you do, now?\n",
    "- try your knowledge to get more details from this data.\n",
    "- Go in-depth of every small points.\n",
    "- Feel free to Copy or Edit this notebook\n",
    "\n",
    "\n",
    "#### Pls do upvotes, write your views/ideas/suggetions in discussion.\n",
    "#### Lastly, pls follow me, do visit my account and share this notebook as much possible.\n",
    "\n",
    "#### Thanks a lot to reading till last.\n",
    "Good Luck!!!!"
   ]
  },
  {
   "cell_type": "code",
   "execution_count": null,
   "metadata": {},
   "outputs": [],
   "source": []
  }
 ],
 "metadata": {
  "kernelspec": {
   "display_name": "Python 3 (ipykernel)",
   "language": "python",
   "name": "python3"
  },
  "language_info": {
   "codemirror_mode": {
    "name": "ipython",
    "version": 3
   },
   "file_extension": ".py",
   "mimetype": "text/x-python",
   "name": "python",
   "nbconvert_exporter": "python",
   "pygments_lexer": "ipython3",
   "version": "3.9.13"
  }
 },
 "nbformat": 4,
 "nbformat_minor": 4
}
